{
 "cells": [
  {
   "cell_type": "markdown",
   "metadata": {
    "tags": [],
    "toc-hr-collapsed": true
   },
   "source": [
    "# Ch4. Numpy基础"
   ]
  },
  {
   "cell_type": "code",
   "execution_count": null,
   "metadata": {},
   "outputs": [],
   "source": [
    "import numpy as np\n",
    "my_arr = np.arange(1000000)\n",
    "my_list=list(range(1000000))"
   ]
  },
  {
   "cell_type": "code",
   "execution_count": null,
   "metadata": {},
   "outputs": [],
   "source": [
    "%time for _ in range(10): my_arr2=my_arr*2"
   ]
  },
  {
   "cell_type": "code",
   "execution_count": null,
   "metadata": {},
   "outputs": [],
   "source": [
    "%time for _ in range(10):my_list2=[x*2 for x in my_list]"
   ]
  },
  {
   "cell_type": "markdown",
   "metadata": {
    "tags": [],
    "toc-hr-collapsed": true
   },
   "source": [
    "## 4.1 Numpy ndarry:多维数组对象"
   ]
  },
  {
   "cell_type": "markdown",
   "metadata": {},
   "source": [
    "Numpy的核心特征之一是N-维数组对象 ---ndarray"
   ]
  },
  {
   "cell_type": "code",
   "execution_count": null,
   "metadata": {},
   "outputs": [],
   "source": [
    "#生成随机数组\n",
    "data=np.random.randn(2,3)\n",
    "data"
   ]
  },
  {
   "cell_type": "code",
   "execution_count": null,
   "metadata": {},
   "outputs": [],
   "source": [
    "#给data加上数学操作\n",
    "print(data*10)\n",
    "print(data+data)"
   ]
  },
  {
   "cell_type": "code",
   "execution_count": null,
   "metadata": {},
   "outputs": [],
   "source": [
    "#每一个ndarray对象都有一个shape的属性，用来表示数组中每一维的数量\n",
    "#每一个ndarray对象都有一个dtype的属性，用来表示数组的数据类型\n",
    "print(data.shape)\n",
    "print(data.dtype)"
   ]
  },
  {
   "cell_type": "markdown",
   "metadata": {},
   "source": [
    "### 4.1.1 生成ndarray"
   ]
  },
  {
   "cell_type": "code",
   "execution_count": null,
   "metadata": {},
   "outputs": [],
   "source": [
    "#生成数组最简单的方式使用array函数。array函数接收任意的序列型对象\n",
    "data1=[6,2,3,883.2,0]\n",
    "arr1=np.array(data1)\n",
    "\n",
    "#同等长度的列表，会自动转换成多维数组\n",
    "data2=[[1,2,3],[3,3,4]]\n",
    "arr2=np.array(data2)\n",
    "\n",
    "data3=[[[1,2],[2,3]],[[3,4],[4,5]]]\n",
    "arr3=np.array(data3)\n",
    "arr3.shape"
   ]
  },
  {
   "cell_type": "code",
   "execution_count": null,
   "metadata": {},
   "outputs": [],
   "source": [
    "#可以通过检查ndarray的ndim属性来确认数组的维度\n",
    "arr2.ndim\n",
    "arr3.ndim"
   ]
  },
  {
   "cell_type": "code",
   "execution_count": null,
   "metadata": {},
   "outputs": [],
   "source": [
    "#zeros可以一次性创建全0数组\n",
    "print(np.zeros(5))\n",
    "\n",
    "#ones可以一次性创建全1数组\n",
    "print(np.ones(4))\n",
    "\n",
    "#如果需要创建高维的数组，需要传递一个shape的元组\n",
    "print(np.ones((2,3,2)))"
   ]
  },
  {
   "cell_type": "markdown",
   "metadata": {},
   "source": [
    "empty用来创建没有初始化数值的数组。如果用np.empty来生成全0的数组，并不安全，因为它可能会返回未初始化的垃圾数值"
   ]
  },
  {
   "cell_type": "code",
   "execution_count": null,
   "metadata": {},
   "outputs": [],
   "source": [
    "# arange 是python的range的数组版\n",
    "np.arange(7)"
   ]
  },
  {
   "cell_type": "markdown",
   "metadata": {},
   "source": [
    "### 4.1.2 ndarray的数据类型"
   ]
  },
  {
   "cell_type": "code",
   "execution_count": null,
   "metadata": {},
   "outputs": [],
   "source": [
    "#astype可以显示得转换数据类型\n",
    "arr = np.array([1,2,3])\n",
    "print(arr)\n",
    "print(arr.dtype)\n",
    "float_arr = arr.astype(np.float64)\n",
    "print(float_arr.dtype)"
   ]
  },
  {
   "cell_type": "markdown",
   "metadata": {},
   "source": [
    "使用astype时总是生成一个新的数组，即使传入的dtype与之前的一样"
   ]
  },
  {
   "cell_type": "markdown",
   "metadata": {},
   "source": [
    "### 4.1.3 Numpy数组算术"
   ]
  },
  {
   "cell_type": "code",
   "execution_count": null,
   "metadata": {},
   "outputs": [],
   "source": [
    "#数组可以进行向量化的操作\n",
    "arr = np.arange(6).reshape(2,3)\n",
    "arr"
   ]
  },
  {
   "cell_type": "code",
   "execution_count": null,
   "metadata": {},
   "outputs": [],
   "source": [
    "arr*arr"
   ]
  },
  {
   "cell_type": "code",
   "execution_count": null,
   "metadata": {},
   "outputs": [],
   "source": [
    "arr+arr"
   ]
  },
  {
   "cell_type": "code",
   "execution_count": null,
   "metadata": {},
   "outputs": [],
   "source": [
    "arr-arr"
   ]
  },
  {
   "cell_type": "code",
   "execution_count": null,
   "metadata": {},
   "outputs": [],
   "source": [
    "arr2 = np.arange(2,8).reshape(2,3)\n",
    "arr2"
   ]
  },
  {
   "cell_type": "code",
   "execution_count": null,
   "metadata": {},
   "outputs": [],
   "source": [
    "# 同尺寸数组之间的比较，会产生一个同尺寸的布尔值数组\n",
    "arr2>arr"
   ]
  },
  {
   "cell_type": "markdown",
   "metadata": {
    "toc-hr-collapsed": true
   },
   "source": [
    "### 4.1.4 基础索引与切片"
   ]
  },
  {
   "cell_type": "code",
   "execution_count": null,
   "metadata": {},
   "outputs": [],
   "source": [
    "arr = np.arange(10)\n",
    "arr"
   ]
  },
  {
   "cell_type": "code",
   "execution_count": null,
   "metadata": {},
   "outputs": [],
   "source": [
    "# 数组的切片是原数组的视图，任何对切片的修改都会反映到原数组上\n",
    "arr[5]=55\n",
    "arr"
   ]
  },
  {
   "cell_type": "code",
   "execution_count": null,
   "metadata": {},
   "outputs": [],
   "source": [
    "arr[2:4] = 22\n",
    "arr"
   ]
  },
  {
   "cell_type": "code",
   "execution_count": null,
   "metadata": {},
   "outputs": [],
   "source": [
    "# 二维数组中，每个索引值对应的是一个一维数组\n",
    "arr2d= np.arange(1,10).reshape(3,3)\n",
    "arr2d"
   ]
  },
  {
   "cell_type": "code",
   "execution_count": null,
   "metadata": {},
   "outputs": [],
   "source": [
    "print(arr2d[0][2])\n",
    "print(arr2d[0,2])"
   ]
  },
  {
   "cell_type": "code",
   "execution_count": null,
   "metadata": {},
   "outputs": [],
   "source": [
    "arr3d = np.arange(1,13).reshape(2,2,3)\n",
    "arr3d"
   ]
  },
  {
   "cell_type": "code",
   "execution_count": null,
   "metadata": {},
   "outputs": [],
   "source": [
    "arr3d[0] = 42\n",
    "arr3d"
   ]
  },
  {
   "cell_type": "markdown",
   "metadata": {},
   "source": [
    "#### 4.1.4.1 数组的切片索引"
   ]
  },
  {
   "cell_type": "code",
   "execution_count": null,
   "metadata": {},
   "outputs": [],
   "source": [
    "arr2d[:2]"
   ]
  },
  {
   "cell_type": "code",
   "execution_count": null,
   "metadata": {},
   "outputs": [],
   "source": [
    "arr2d[:2,1:]"
   ]
  },
  {
   "cell_type": "code",
   "execution_count": null,
   "metadata": {},
   "outputs": [],
   "source": [
    "arr2d[:2,2:]"
   ]
  },
  {
   "cell_type": "code",
   "execution_count": null,
   "metadata": {},
   "outputs": [],
   "source": [
    "arr2d[:2,2]"
   ]
  },
  {
   "cell_type": "code",
   "execution_count": null,
   "metadata": {},
   "outputs": [],
   "source": [
    "arr2d[:,:1]"
   ]
  },
  {
   "cell_type": "code",
   "execution_count": null,
   "metadata": {},
   "outputs": [],
   "source": [
    "arr2d[:,0]"
   ]
  },
  {
   "cell_type": "code",
   "execution_count": null,
   "metadata": {},
   "outputs": [],
   "source": [
    "arr2d[:2,1:] = 0\n",
    "arr2d"
   ]
  },
  {
   "cell_type": "code",
   "execution_count": null,
   "metadata": {},
   "outputs": [],
   "source": [
    "arr2d[2].shape"
   ]
  },
  {
   "cell_type": "code",
   "execution_count": null,
   "metadata": {},
   "outputs": [],
   "source": [
    "a = np.arange(1,10).reshape(3,3)\n",
    "print(a)\n",
    "t = np.arange(1,10).reshape(3,3)\n",
    "d=t[2]\n",
    "d1=t[2,:]\n",
    "d2=t[2:,:]\n",
    "print(d)\n",
    "print(d.shape)\n",
    "\n",
    "print(d1)\n",
    "print(d1.shape)\n",
    "\n",
    "print(d2)\n",
    "print(d2.shape)\n",
    "\n"
   ]
  },
  {
   "cell_type": "markdown",
   "metadata": {},
   "source": [
    "### 4.1.5 布尔索引"
   ]
  },
  {
   "cell_type": "code",
   "execution_count": null,
   "metadata": {},
   "outputs": [],
   "source": [
    "names=np.array(['Bob','Joe','Will','Bob','Will','Joe','Joe'])\n",
    "data= np.random.randn(7,4)\n",
    "data\n",
    "                "
   ]
  },
  {
   "cell_type": "code",
   "execution_count": null,
   "metadata": {},
   "outputs": [],
   "source": [
    "names"
   ]
  },
  {
   "cell_type": "code",
   "execution_count": null,
   "metadata": {},
   "outputs": [],
   "source": [
    "names=='Bob'"
   ]
  },
  {
   "cell_type": "code",
   "execution_count": null,
   "metadata": {},
   "outputs": [],
   "source": [
    "# 选中'Bob'所在的行\n",
    "data[names=='Bob']"
   ]
  },
  {
   "cell_type": "code",
   "execution_count": null,
   "metadata": {},
   "outputs": [],
   "source": [
    "#使用~对条件取反\n",
    "data[~(names=='Bob')]\n",
    "#和python中的不同，多个布尔值联合需要使用'&'和'|'"
   ]
  },
  {
   "cell_type": "markdown",
   "metadata": {},
   "source": [
    "### 4.1.6 神奇索引"
   ]
  },
  {
   "cell_type": "code",
   "execution_count": null,
   "metadata": {},
   "outputs": [],
   "source": [
    "#可以通过传递一个包含指明所需顺序的列表或数组来完成\n",
    "arr = np.empty((8,4))\n",
    "for i in range(8):\n",
    "    arr[i]=i\n",
    "print(arr)\n",
    "print(arr[[4,0,3,6]])\n",
    "\n",
    "#也可以传递多个索引数组，这样会选出一维数组\n",
    "arr=np.arange(32).reshape((8,4))\n",
    "arr"
   ]
  },
  {
   "cell_type": "code",
   "execution_count": null,
   "metadata": {},
   "outputs": [],
   "source": [
    "arr[[0,2,4,6],[1,1,0,3]]"
   ]
  },
  {
   "cell_type": "markdown",
   "metadata": {},
   "source": [
    "### 4.1.7 数组转置和换轴"
   ]
  },
  {
   "cell_type": "code",
   "execution_count": null,
   "metadata": {},
   "outputs": [],
   "source": [
    "arr=np.arange(15).reshape((3,5))\n",
    "arr"
   ]
  },
  {
   "cell_type": "code",
   "execution_count": null,
   "metadata": {},
   "outputs": [],
   "source": [
    "# 转置。转置可以返回底层数据的视图，而不需要复制任何内容\n",
    "arr.T\n",
    "arr"
   ]
  },
  {
   "cell_type": "code",
   "execution_count": null,
   "metadata": {},
   "outputs": [],
   "source": [
    "# 使用np.dot进行矩阵的内积\n",
    "arr=np.random.randn(6,3)\n",
    "arr"
   ]
  },
  {
   "cell_type": "code",
   "execution_count": null,
   "metadata": {},
   "outputs": [],
   "source": [
    "np.dot(arr.T,arr)"
   ]
  },
  {
   "cell_type": "code",
   "execution_count": null,
   "metadata": {},
   "outputs": [],
   "source": [
    "arr=np.arange(24).reshape((2,3,4))\n",
    "arr"
   ]
  },
  {
   "cell_type": "code",
   "execution_count": null,
   "metadata": {},
   "outputs": [],
   "source": [
    "#transpose可以传递一个元组\n",
    "arr.transpose(1,0,2)"
   ]
  },
  {
   "cell_type": "code",
   "execution_count": null,
   "metadata": {},
   "outputs": [],
   "source": [
    "arr.transpose(2,0,1)"
   ]
  },
  {
   "cell_type": "code",
   "execution_count": null,
   "metadata": {},
   "outputs": [],
   "source": [
    "arr.transpose(2,1,0)"
   ]
  },
  {
   "cell_type": "code",
   "execution_count": null,
   "metadata": {},
   "outputs": [],
   "source": [
    "#ndarray 有swapaxes方法 ，该方法接收一对轴编号作为参数，并对轴进行调整用于重组数据\n",
    "arr"
   ]
  },
  {
   "cell_type": "code",
   "execution_count": null,
   "metadata": {},
   "outputs": [],
   "source": [
    "arr.swapaxes(1,2)"
   ]
  },
  {
   "cell_type": "markdown",
   "metadata": {
    "tags": []
   },
   "source": [
    "## 4.2 通用函数\n",
    "可以对ndarray数据中进行逐元素操作的函数"
   ]
  },
  {
   "cell_type": "code",
   "execution_count": null,
   "metadata": {},
   "outputs": [],
   "source": [
    "arr = np.arange(10)\n",
    "arr"
   ]
  },
  {
   "cell_type": "code",
   "execution_count": null,
   "metadata": {},
   "outputs": [],
   "source": [
    "np.sqrt(arr)"
   ]
  },
  {
   "cell_type": "code",
   "execution_count": null,
   "metadata": {},
   "outputs": [],
   "source": [
    "np.exp(arr)"
   ]
  },
  {
   "cell_type": "code",
   "execution_count": null,
   "metadata": {},
   "outputs": [],
   "source": [
    "d = np.array([1,2,1/3])\n",
    "np.isfinite(d)"
   ]
  },
  {
   "cell_type": "markdown",
   "metadata": {},
   "source": [
    "## 4.3 使用数组进行面向数组编程"
   ]
  },
  {
   "cell_type": "code",
   "execution_count": null,
   "metadata": {},
   "outputs": [],
   "source": [
    "#简单示例 meshgrid函数\n",
    "points = np.arange(-5,5,0.01) \n",
    "xs,ys = np.meshgrid(points,points)\n",
    "xs\n"
   ]
  },
  {
   "cell_type": "code",
   "execution_count": null,
   "metadata": {},
   "outputs": [],
   "source": [
    "z=np.sqrt(xs**2+ys**2)\n",
    "z"
   ]
  },
  {
   "cell_type": "code",
   "execution_count": null,
   "metadata": {},
   "outputs": [],
   "source": [
    "import matplotlib.pyplot as plt\n",
    "plt.imshow(z,cmap=plt.cm.gray)\n",
    "plt.colorbar()\n",
    "plt.title(\"Image plot of $\\sqrt{x^2+y^2}$ for a grid of values\")"
   ]
  },
  {
   "cell_type": "markdown",
   "metadata": {},
   "source": [
    "### 4.3.1 将条件逻辑作为数组操作"
   ]
  },
  {
   "cell_type": "code",
   "execution_count": null,
   "metadata": {},
   "outputs": [],
   "source": [
    "# numpy.where 操作\n",
    "xarr = np.random.randn(5)\n",
    "yarr = np.random.randn(5)\n",
    "print(xarr)\n",
    "print(yarr)\n",
    "#取两个数组中更大的值 \n",
    "result=np.where(xarr>yarr, xarr,yarr)\n",
    "print(result)"
   ]
  },
  {
   "cell_type": "markdown",
   "metadata": {},
   "source": [
    "传递给`np.where`的数组既可以是同等大小的数组，也可是标量"
   ]
  },
  {
   "cell_type": "markdown",
   "metadata": {},
   "source": [
    "### 4.3.2 数学和统计方法 "
   ]
  },
  {
   "cell_type": "code",
   "execution_count": null,
   "metadata": {},
   "outputs": [],
   "source": [
    "# 可以以某一个轴对多维数组进行统计(求和、求平均等)\n",
    "data =np.arange(24).reshape(2,3,4)\n",
    "print(data)\n",
    "print('--------------')\n",
    "print(data.sum(axis=0))\n",
    "print('--------------')\n",
    "print(data.sum(axis=1))\n",
    "print('--------------')\n",
    "print(data.sum(axis=2))\n",
    "#其中axis参数可以去掉\n",
    "print('--------------')\n",
    "print(data.sum(2))"
   ]
  },
  {
   "cell_type": "code",
   "execution_count": null,
   "metadata": {},
   "outputs": [],
   "source": [
    "#cumsum和cumprod分别是从0开始元素累积和，从0开始元素累积积\n",
    "arr=np.array([9,1,2,3,4])\n",
    "print(arr.cumsum())\n",
    "print(arr.cumprod())"
   ]
  },
  {
   "cell_type": "code",
   "execution_count": null,
   "metadata": {},
   "outputs": [],
   "source": [
    "# cumsum 可以在指定轴向根据较低维度的切片进行部分聚合\n",
    "arr= np.arange(9).reshape((3,3))\n",
    "arr"
   ]
  },
  {
   "cell_type": "code",
   "execution_count": null,
   "metadata": {},
   "outputs": [],
   "source": [
    "arr.cumsum(axis=0)"
   ]
  },
  {
   "cell_type": "code",
   "execution_count": null,
   "metadata": {},
   "outputs": [],
   "source": [
    "arr.cumsum(axis=1)"
   ]
  },
  {
   "cell_type": "code",
   "execution_count": null,
   "metadata": {},
   "outputs": [],
   "source": [
    "arr.cumprod(axis=1)"
   ]
  },
  {
   "cell_type": "markdown",
   "metadata": {},
   "source": [
    "### 4.3.3 布尔值数组方法 "
   ]
  },
  {
   "cell_type": "code",
   "execution_count": null,
   "metadata": {},
   "outputs": [],
   "source": [
    "# sum可以计算布尔值数组中True的个数\n",
    "arr=np.random.randn(100)\n",
    "(arr>0).sum()"
   ]
  },
  {
   "cell_type": "code",
   "execution_count": null,
   "metadata": {},
   "outputs": [],
   "source": [
    "# any 检查数组中是否至少有一个True\n",
    "# all 检查是否每个值为True\n",
    "bools= np.array([False,False,True,False])\n",
    "print(bools.any())\n",
    "print(bools.all())\n"
   ]
  },
  {
   "cell_type": "markdown",
   "metadata": {},
   "source": [
    "### 4.3.4 排序"
   ]
  },
  {
   "cell_type": "code",
   "execution_count": null,
   "metadata": {},
   "outputs": [],
   "source": [
    "arr = np.random.randn(6)\n",
    "print(arr)\n",
    "arr.sort()\n",
    "print(arr)"
   ]
  },
  {
   "cell_type": "code",
   "execution_count": null,
   "metadata": {},
   "outputs": [],
   "source": [
    "arr=np.random.randn(5,3)\n",
    "arr"
   ]
  },
  {
   "cell_type": "code",
   "execution_count": null,
   "metadata": {},
   "outputs": [],
   "source": [
    "arr.sort(0)\n",
    "arr"
   ]
  },
  {
   "cell_type": "code",
   "execution_count": null,
   "metadata": {},
   "outputs": [],
   "source": [
    "#np.sort方法返回的是已经排序好的数组拷贝，不是对原数组按位置排序"
   ]
  },
  {
   "cell_type": "markdown",
   "metadata": {},
   "source": [
    "### 4.3.5 唯一值与其他集合逻辑"
   ]
  },
  {
   "cell_type": "code",
   "execution_count": null,
   "metadata": {},
   "outputs": [],
   "source": [
    "# np.unique返回数组中唯一值排序后形成的数组\n",
    "names=np.array(['aaa','bbb','aaa','b','ccc','b'])\n",
    "np.unique(names)"
   ]
  },
  {
   "cell_type": "markdown",
   "metadata": {
    "tags": [],
    "toc-hr-collapsed": true
   },
   "source": [
    "# Ch5 Pandas入门"
   ]
  },
  {
   "cell_type": "markdown",
   "metadata": {},
   "source": [
    "## 5.1 Pandas数据结构介绍"
   ]
  },
  {
   "cell_type": "markdown",
   "metadata": {},
   "source": [
    "### 5.1.1 Series\n",
    "Series是一种一维的数组类型对象，它包含了值序列，并包含了数据标签，也称为索引(Index)"
   ]
  },
  {
   "cell_type": "code",
   "execution_count": null,
   "metadata": {},
   "outputs": [],
   "source": [
    "import pandas as pd"
   ]
  },
  {
   "cell_type": "code",
   "execution_count": null,
   "metadata": {},
   "outputs": [],
   "source": [
    "obj = pd.Series([[4,7,-5,3]])\n",
    "obj"
   ]
  },
  {
   "cell_type": "code",
   "execution_count": null,
   "metadata": {},
   "outputs": [],
   "source": [
    "obj.values"
   ]
  },
  {
   "cell_type": "code",
   "execution_count": null,
   "metadata": {},
   "outputs": [],
   "source": [
    "obj.index"
   ]
  },
  {
   "cell_type": "code",
   "execution_count": null,
   "metadata": {},
   "outputs": [],
   "source": [
    "# 可以创建带标签的序列序列\n",
    "obj2 = pd.Series([4,7,-5,3],index=['d','b','a','c'])\n",
    "obj2"
   ]
  },
  {
   "cell_type": "code",
   "execution_count": null,
   "metadata": {},
   "outputs": [],
   "source": [
    "obj2.index"
   ]
  },
  {
   "cell_type": "code",
   "execution_count": null,
   "metadata": {},
   "outputs": [],
   "source": [
    "# 可以在数据中使用标签来进行索引\n",
    "print(obj2['a'])\n",
    "print(obj2[['c','a','d']])"
   ]
  },
  {
   "cell_type": "code",
   "execution_count": null,
   "metadata": {},
   "outputs": [],
   "source": [
    "# 使用布尔值进行过滤\n",
    "print(obj2>0)\n",
    "print(obj2[obj2>0])"
   ]
  },
  {
   "cell_type": "code",
   "execution_count": null,
   "metadata": {},
   "outputs": [],
   "source": [
    "# 使用字典生成Series\n",
    "sdata ={'Ohio':35000,'Texas':71000,'Oregon':16000,'Utah':5000}\n",
    "obj3=pd.Series(sdata)\n",
    "obj3"
   ]
  },
  {
   "cell_type": "code",
   "execution_count": null,
   "metadata": {},
   "outputs": [],
   "source": [
    "states=['California','Ohio','Oregon','Texas']\n",
    "obj4=pd.Series(sdata,index=states)\n",
    "obj4"
   ]
  },
  {
   "cell_type": "code",
   "execution_count": null,
   "metadata": {},
   "outputs": [],
   "source": [
    "# pandas 使用isnull和notnull函数来检查缺失数据\n",
    "print(pd.isnull(obj4))\n",
    "print(pd.notnull(obj4))\n",
    "# isnull 和notnull也是Series的实例方法 \n",
    "obj4.isnull()"
   ]
  },
  {
   "cell_type": "code",
   "execution_count": null,
   "metadata": {},
   "outputs": [],
   "source": [
    "# 自动索引对齐是一个有用的特性\n",
    "print(obj3)\n",
    "print(obj4)\n",
    "print(obj3+obj4)"
   ]
  },
  {
   "cell_type": "markdown",
   "metadata": {},
   "source": [
    "### 5.1.2 DataFrame\n",
    "DataFrame 表示的是矩阵的数据表\n",
    "有多种方式可以构建DataFrame"
   ]
  },
  {
   "cell_type": "code",
   "execution_count": null,
   "metadata": {},
   "outputs": [],
   "source": [
    "data={\n",
    "    'state':['Ohio','Ohio','Ohio','Nevada','Nevada','Nevada'],\n",
    "    'year' :[2000,2001,2002,2001,2002,2003],\n",
    "    'pop'  :[1.5,1.7,3.6,2.4,2.9,3.2]\n",
    "}\n",
    "frame = pd.DataFrame(data)\n",
    "print(frame)\n",
    "# 对于大型DatFrame, head方法只会选出前五行\n",
    "print()\n",
    "print(frame.head())"
   ]
  },
  {
   "cell_type": "code",
   "execution_count": null,
   "metadata": {},
   "outputs": [],
   "source": [
    "# 如果传的列不在字典中，将会在结果中出现缺失值\n",
    "frame2 = pd.DataFrame(data,columns=['year','state','pop','debt'],\n",
    "                           index=['one','two','three','four','five','six'])\n",
    "print(frame2)\n",
    "print(frame2.columns)"
   ]
  },
  {
   "cell_type": "code",
   "execution_count": null,
   "metadata": {},
   "outputs": [],
   "source": [
    "#选取某一列\n",
    "print(frame2['debt'])\n",
    "print(frame2.year)\n",
    "print()\n",
    "#选取某一万\n",
    "print(frame2.loc['three'])"
   ]
  },
  {
   "cell_type": "code",
   "execution_count": null,
   "metadata": {},
   "outputs": [],
   "source": [
    "# 修改列的引用\n",
    "frame2['debt']=16.5\n",
    "frame2"
   ]
  },
  {
   "cell_type": "code",
   "execution_count": null,
   "metadata": {},
   "outputs": [],
   "source": [
    "frame2['debt']=np.arange(6)"
   ]
  },
  {
   "cell_type": "code",
   "execution_count": null,
   "metadata": {},
   "outputs": [],
   "source": [
    "frame2"
   ]
  },
  {
   "cell_type": "code",
   "execution_count": null,
   "metadata": {},
   "outputs": [],
   "source": [
    "#可以使用loc 选行选取\n",
    "frame2.loc['three']  #类型是Series\n",
    "#type(frame2.loc['three'])"
   ]
  },
  {
   "cell_type": "code",
   "execution_count": null,
   "metadata": {},
   "outputs": [],
   "source": [
    "#del 关键字可以删除DateFrame的列\n",
    "frame2['eastern']=frame2.state=='Ohio'\n",
    "del frame2['eastern']"
   ]
  },
  {
   "cell_type": "markdown",
   "metadata": {},
   "source": [
    "从DataFrame中选取的列是数据的视图，而不是拷贝"
   ]
  },
  {
   "cell_type": "code",
   "execution_count": null,
   "metadata": {},
   "outputs": [],
   "source": [
    "# 另一种构建DataFrame的方式是传入嵌套字典，字典的Key会作为列，字典内部的键作为行索引\n",
    "pop = {'Nevada':{2001:2.4, 2002:2.9},\n",
    "       'Ohio':{2000:1.5,2001:1.7,2002:3.6}\n",
    "      }\n",
    "frame3=pd.DataFrame(pop)\n",
    "print(frame3)\n",
    "print()\n",
    "print(frame3.T)"
   ]
  },
  {
   "cell_type": "code",
   "execution_count": null,
   "metadata": {},
   "outputs": [],
   "source": [
    "#DataFrame的构造函数9种输入\n",
    "#1--2D ndarray--数据的矩阵，行和列的标签是可选参数\n",
    "print(pd.DataFrame(np.arange(15).reshape(3,5)))\n",
    "print()\n",
    "print(pd.DataFrame(np.arange(15).reshape(3,5),index=range(2,5)))\n",
    "print()\n",
    "print(pd.DataFrame(np.arange(15).reshape(3,5),index=[ch for ch in 'abc']))\n",
    "print()\n",
    "print(pd.DataFrame(np.arange(15).reshape(3,5),\n",
    "                   index=[ch for ch in 'abc'],\n",
    "                   columns=range(10,15)))\n",
    "print()\n",
    "print(pd.DataFrame(np.arange(15).reshape(3,5),\n",
    "                   index=[ch for ch in 'abc'],\n",
    "                   columns=[ch for ch in 'zyxtt']))"
   ]
  },
  {
   "cell_type": "code",
   "execution_count": null,
   "metadata": {},
   "outputs": [],
   "source": [
    "#2--数组、列表和元组构成的字典\n",
    "#2.1 数组构成的字典\n",
    "dic1 = {'a':[1,2,3],'b':[4,5,6]}\n",
    "print(pd.DataFrame(dic1))\n",
    "print()\n",
    "dic2 = {'a':(1,2,3),'b':(4,5,6)}\n",
    "print(pd.DataFrame(dic2))\n",
    "print()\n",
    "dic3 = {'a':np.arange(3),'b':np.arange(4,7)}\n",
    "print(pd.DataFrame(dic3))"
   ]
  },
  {
   "cell_type": "code",
   "execution_count": null,
   "metadata": {},
   "outputs": [],
   "source": [
    "#3-- Series构成的字典--每个值成为一列\n",
    "s1=pd.Series(range(3),index=['a','b','c'])\n",
    "s2=pd.Series(range(4,7),index=['b','c','d'])\n",
    "dic4={'k1':s1,'k2':s2}\n",
    "print(pd.DataFrame(dic4))"
   ]
  },
  {
   "cell_type": "code",
   "execution_count": null,
   "metadata": {},
   "outputs": [],
   "source": [
    "#4--字典或者Series构成的列表--\n",
    "lst=[]\n",
    "dic5={1:10,2:20}\n",
    "dic6={2:30,3:40}\n",
    "lst.append(dic5)\n",
    "lst.append(dic6)\n",
    "print(print(pd.DataFrame(lst)))"
   ]
  },
  {
   "cell_type": "markdown",
   "metadata": {},
   "source": [
    "### 5.1.3 索引对象"
   ]
  },
  {
   "cell_type": "code",
   "execution_count": null,
   "metadata": {},
   "outputs": [],
   "source": [
    "obj=pd.Series(range(3),index=['a','b','c'])\n",
    "index=obj.index\n",
    "type(index)\n",
    "# 索引对象是不可变的，所以是无法修改索引对象的"
   ]
  },
  {
   "cell_type": "code",
   "execution_count": null,
   "metadata": {},
   "outputs": [],
   "source": [
    "print(frame3)\n",
    "print(frame3.columns)\n",
    "print(type(frame3.columns))# DataFrame的Columns是索引对象\n",
    "# Pandas索引对象也可以包含重复标签\n",
    "dup_labels= pd.Index(['foo','foo','bar','bar'])\n",
    "print(dup_labels)"
   ]
  },
  {
   "cell_type": "markdown",
   "metadata": {},
   "source": [
    "## 5.2 基本功能 "
   ]
  },
  {
   "cell_type": "markdown",
   "metadata": {},
   "source": [
    "### 5.2.1 重建索引"
   ]
  },
  {
   "cell_type": "code",
   "execution_count": null,
   "metadata": {},
   "outputs": [],
   "source": [
    "obj= pd.Series([4.5,7.2,-5.3,3.6],index=['d','b','a','c'])\n",
    "obj"
   ]
  },
  {
   "cell_type": "code",
   "execution_count": null,
   "metadata": {},
   "outputs": [],
   "source": [
    "#使用reindex\n",
    "obj2 = obj.reindex(['a','b','c','d'])\n",
    "obj2"
   ]
  },
  {
   "cell_type": "code",
   "execution_count": null,
   "metadata": {},
   "outputs": [],
   "source": [
    "# 使用ffill方法 在重建索引时，插值， ffill方法会将值前向填充\n",
    "obj3=pd.Series(['blue','purple','yellow'],index=[0,3,6])\n",
    "obj3"
   ]
  },
  {
   "cell_type": "code",
   "execution_count": null,
   "metadata": {},
   "outputs": [],
   "source": [
    "obj3.reindex(range(8),method='ffill')\n"
   ]
  },
  {
   "cell_type": "code",
   "execution_count": null,
   "metadata": {},
   "outputs": [],
   "source": [
    "frame = pd.DataFrame(np.arange(9).reshape(3,3), \n",
    "                     index=[ch for ch in 'acd'],\n",
    "                     columns=['Ohio','Texas','California'])\n",
    "frame"
   ]
  },
  {
   "cell_type": "code",
   "execution_count": null,
   "metadata": {},
   "outputs": [],
   "source": [
    "frame2 = frame.reindex([ch for ch in 'abcd'])\n",
    "frame2"
   ]
  },
  {
   "cell_type": "code",
   "execution_count": null,
   "metadata": {},
   "outputs": [],
   "source": [
    "#使用columns进行列的地重建索引\n",
    "states=['Texas','Utah','California']\n",
    "frame.reindex(columns=states)"
   ]
  },
  {
   "cell_type": "code",
   "execution_count": null,
   "metadata": {},
   "outputs": [],
   "source": [
    "#使用loc进行重建索引\n",
    "frame.loc[['a','b','c','d'],states]"
   ]
  },
  {
   "cell_type": "markdown",
   "metadata": {},
   "source": [
    "### 5.2.2 轴向上删除条目"
   ]
  },
  {
   "cell_type": "code",
   "execution_count": null,
   "metadata": {},
   "outputs": [],
   "source": [
    "obj= pd.Series(np.arange(5.),index=[ch for ch in 'abcde'])\n",
    "obj"
   ]
  },
  {
   "cell_type": "code",
   "execution_count": null,
   "metadata": {},
   "outputs": [],
   "source": [
    "new_obj = obj.drop('c')\n",
    "new_obj"
   ]
  },
  {
   "cell_type": "code",
   "execution_count": null,
   "metadata": {},
   "outputs": [],
   "source": [
    "obj.drop(['d','c'])"
   ]
  },
  {
   "cell_type": "code",
   "execution_count": null,
   "metadata": {},
   "outputs": [],
   "source": [
    "\n",
    "data = pd.DataFrame(np.arange(16).reshape(4,4),\n",
    "index=['Ohio','Colorado','Utah','New York'],\n",
    "columns=['One','two','three','four'])\n",
    "data"
   ]
  },
  {
   "cell_type": "code",
   "execution_count": null,
   "metadata": {},
   "outputs": [],
   "source": [
    "data.drop(['Colorado','Ohio'])\n",
    "data"
   ]
  },
  {
   "cell_type": "code",
   "execution_count": null,
   "metadata": {},
   "outputs": [],
   "source": [
    "# 按列删除，通过传递axis=1或axis='columns'\n",
    "data.drop('two',axis=1) #或者 data.drop('two',1) 或者 data.drop('two',axis='columns')"
   ]
  },
  {
   "cell_type": "code",
   "execution_count": null,
   "metadata": {},
   "outputs": [],
   "source": [
    "# drop的时候增加 inplace=True，会在原对象上操作\n",
    "obj.drop('c',inplace=True)"
   ]
  },
  {
   "cell_type": "code",
   "execution_count": null,
   "metadata": {},
   "outputs": [],
   "source": [
    "obj"
   ]
  },
  {
   "cell_type": "markdown",
   "metadata": {},
   "source": [
    "### 5.2.3 索引、选择与过滤"
   ]
  },
  {
   "cell_type": "code",
   "execution_count": null,
   "metadata": {},
   "outputs": [],
   "source": [
    "obj= pd.Series(np.arange(4.),index=[ch for ch in 'abcd'])\n",
    "obj"
   ]
  },
  {
   "cell_type": "code",
   "execution_count": null,
   "metadata": {},
   "outputs": [],
   "source": [
    "obj['b']"
   ]
  },
  {
   "cell_type": "code",
   "execution_count": null,
   "metadata": {},
   "outputs": [],
   "source": [
    "obj[1]"
   ]
  },
  {
   "cell_type": "code",
   "execution_count": null,
   "metadata": {},
   "outputs": [],
   "source": [
    "obj[2:4]"
   ]
  },
  {
   "cell_type": "code",
   "execution_count": null,
   "metadata": {},
   "outputs": [],
   "source": [
    "obj[['b','a','d']]"
   ]
  },
  {
   "cell_type": "code",
   "execution_count": null,
   "metadata": {},
   "outputs": [],
   "source": [
    "obj[[1,3]]"
   ]
  },
  {
   "cell_type": "code",
   "execution_count": null,
   "metadata": {},
   "outputs": [],
   "source": [
    "#Series的切片包含闭合区间\n",
    "obj['b':'c']"
   ]
  },
  {
   "cell_type": "code",
   "execution_count": null,
   "metadata": {},
   "outputs": [],
   "source": [
    "data = pd.DataFrame(np.arange(16).reshape(4,4),\n",
    "index=['Ohio','Colorado','Utah','New York'],\n",
    "columns=['one','two','three','four'])\n",
    "data['two']\n"
   ]
  },
  {
   "cell_type": "code",
   "execution_count": null,
   "metadata": {},
   "outputs": [],
   "source": [
    "#选择2列\n",
    "data[['one','two']]"
   ]
  },
  {
   "cell_type": "code",
   "execution_count": null,
   "metadata": {},
   "outputs": [],
   "source": [
    "# 过滤行\n",
    "data[:2]"
   ]
  },
  {
   "cell_type": "code",
   "execution_count": null,
   "metadata": {},
   "outputs": [],
   "source": [
    "data[data['three']>5]"
   ]
  },
  {
   "cell_type": "code",
   "execution_count": null,
   "metadata": {},
   "outputs": [],
   "source": [
    "data<5"
   ]
  },
  {
   "cell_type": "code",
   "execution_count": null,
   "metadata": {},
   "outputs": [],
   "source": [
    "data[data<5]"
   ]
  },
  {
   "cell_type": "markdown",
   "metadata": {},
   "source": [
    "#### 5.2.3.1 使用loc和iloc选择数据"
   ]
  },
  {
   "cell_type": "code",
   "execution_count": null,
   "metadata": {},
   "outputs": [],
   "source": [
    "#loc--使用轴标签选择数据\n",
    "#iloc--使用整数标签选择数据\n",
    "print(data)\n",
    "data.loc['Colorado',['two','three']]"
   ]
  },
  {
   "cell_type": "code",
   "execution_count": null,
   "metadata": {},
   "outputs": [],
   "source": [
    "#使用iloc进行数据数据选择\n",
    "data.iloc[2,[3,0,1]]"
   ]
  },
  {
   "cell_type": "code",
   "execution_count": 131,
   "metadata": {},
   "outputs": [
    {
     "data": {
      "text/html": [
       "<div>\n",
       "<style scoped>\n",
       "    .dataframe tbody tr th:only-of-type {\n",
       "        vertical-align: middle;\n",
       "    }\n",
       "\n",
       "    .dataframe tbody tr th {\n",
       "        vertical-align: top;\n",
       "    }\n",
       "\n",
       "    .dataframe thead th {\n",
       "        text-align: right;\n",
       "    }\n",
       "</style>\n",
       "<table border=\"1\" class=\"dataframe\">\n",
       "  <thead>\n",
       "    <tr style=\"text-align: right;\">\n",
       "      <th></th>\n",
       "      <th>one</th>\n",
       "      <th>two</th>\n",
       "      <th>three</th>\n",
       "    </tr>\n",
       "  </thead>\n",
       "  <tbody>\n",
       "    <tr>\n",
       "      <td>Colorado</td>\n",
       "      <td>4</td>\n",
       "      <td>5</td>\n",
       "      <td>6</td>\n",
       "    </tr>\n",
       "    <tr>\n",
       "      <td>Utah</td>\n",
       "      <td>8</td>\n",
       "      <td>9</td>\n",
       "      <td>10</td>\n",
       "    </tr>\n",
       "    <tr>\n",
       "      <td>New York</td>\n",
       "      <td>12</td>\n",
       "      <td>13</td>\n",
       "      <td>14</td>\n",
       "    </tr>\n",
       "  </tbody>\n",
       "</table>\n",
       "</div>"
      ],
      "text/plain": [
       "          one  two  three\n",
       "Colorado    4    5      6\n",
       "Utah        8    9     10\n",
       "New York   12   13     14"
      ]
     },
     "execution_count": 131,
     "metadata": {},
     "output_type": "execute_result"
    }
   ],
   "source": [
    "# 索引功能还能用于切片\n",
    "data.loc[:'Utah','two']\n",
    "\n",
    "data.iloc[:,:3][data.three>5]\n"
   ]
  },
  {
   "cell_type": "code",
   "execution_count": 167,
   "metadata": {},
   "outputs": [
    {
     "data": {
      "text/plain": [
       "5"
      ]
     },
     "execution_count": 167,
     "metadata": {},
     "output_type": "execute_result"
    }
   ],
   "source": [
    "data.iat[1,1]"
   ]
  },
  {
   "cell_type": "markdown",
   "metadata": {},
   "source": [
    "### 5.2.4 整数索引"
   ]
  },
  {
   "cell_type": "code",
   "execution_count": 180,
   "metadata": {},
   "outputs": [
    {
     "data": {
      "text/plain": [
       "0    0\n",
       "1    1\n",
       "2    2\n",
       "dtype: int32"
      ]
     },
     "execution_count": 180,
     "metadata": {},
     "output_type": "execute_result"
    }
   ],
   "source": [
    "# 使用iloc进行整数索引\n",
    "ser = pd.Series(np.arange(3))\n",
    "ser"
   ]
  },
  {
   "cell_type": "code",
   "execution_count": 181,
   "metadata": {},
   "outputs": [
    {
     "data": {
      "text/plain": [
       "1    1\n",
       "2    2\n",
       "dtype: int32"
      ]
     },
     "execution_count": 181,
     "metadata": {},
     "output_type": "execute_result"
    }
   ],
   "source": [
    "ser.iloc[1:3]"
   ]
  },
  {
   "cell_type": "markdown",
   "metadata": {},
   "source": [
    "### 5.2.5 算术和数据对齐\n",
    "不同索引对象之间的算术行为"
   ]
  },
  {
   "cell_type": "code",
   "execution_count": 184,
   "metadata": {},
   "outputs": [
    {
     "name": "stdout",
     "output_type": "stream",
     "text": [
      "a    0\n",
      "b    1\n",
      "c    2\n",
      "d    3\n",
      "dtype: int64\n",
      "b    2\n",
      "c    3\n",
      "d    4\n",
      "e    5\n",
      "dtype: int64\n",
      "a    NaN\n",
      "b    3.0\n",
      "c    5.0\n",
      "d    7.0\n",
      "e    NaN\n",
      "dtype: float64\n"
     ]
    }
   ],
   "source": [
    "s1 = pd.Series(range(4),index=[ch for ch in 'abcd'])\n",
    "s2 = pd.Series(range(2,6),index=[ch for ch in 'bcde'])\n",
    "print(s1)\n",
    "print(s2)\n",
    "print(s1+s2)"
   ]
  }
 ],
 "metadata": {
  "kernelspec": {
   "display_name": "Python 3",
   "language": "python",
   "name": "python3"
  },
  "language_info": {
   "codemirror_mode": {
    "name": "ipython",
    "version": 3
   },
   "file_extension": ".py",
   "mimetype": "text/x-python",
   "name": "python",
   "nbconvert_exporter": "python",
   "pygments_lexer": "ipython3",
   "version": "3.7.4"
  },
  "toc-autonumbering": false,
  "toc-showcode": false,
  "toc-showmarkdowntxt": false,
  "toc-showtags": false
 },
 "nbformat": 4,
 "nbformat_minor": 4
}
